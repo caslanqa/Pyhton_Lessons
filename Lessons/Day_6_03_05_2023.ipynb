{
 "cells": [
  {
   "attachments": {},
   "cell_type": "markdown",
   "metadata": {},
   "source": [
    "# String Methods"
   ]
  },
  {
   "cell_type": "code",
   "execution_count": 3,
   "metadata": {},
   "outputs": [
    {
     "data": {
      "text/plain": [
       "'cihan'"
      ]
     },
     "execution_count": 3,
     "metadata": {},
     "output_type": "execute_result"
    }
   ],
   "source": [
    "# lower()\n",
    "\n",
    "'CIHAN'.lower()"
   ]
  },
  {
   "cell_type": "code",
   "execution_count": 4,
   "metadata": {},
   "outputs": [
    {
     "data": {
      "text/plain": [
       "'CIHAN'"
      ]
     },
     "execution_count": 4,
     "metadata": {},
     "output_type": "execute_result"
    }
   ],
   "source": [
    "# upper()\n",
    "\n",
    "'cihan'.upper()"
   ]
  },
  {
   "cell_type": "code",
   "execution_count": 7,
   "metadata": {},
   "outputs": [
    {
     "data": {
      "text/plain": [
       "'Bu Bir Test Cümlesidir'"
      ]
     },
     "execution_count": 7,
     "metadata": {},
     "output_type": "execute_result"
    }
   ],
   "source": [
    "# title() string ifadedeki kelimelerin sadece ilk harfleri büyük olacak şekilde döndürür\n",
    "\n",
    "'bu bIr tesT cümleSidir'.title()"
   ]
  },
  {
   "cell_type": "code",
   "execution_count": 8,
   "metadata": {},
   "outputs": [
    {
     "data": {
      "text/plain": [
       "'Bu bir test cümlesidir'"
      ]
     },
     "execution_count": 8,
     "metadata": {},
     "output_type": "execute_result"
    }
   ],
   "source": [
    "# capitalize() string ifadedeki sadece ilk harfi büyük olacak şekilde döndürür\n",
    "\n",
    "'bu bIr tesT cümleSidir'.capitalize()"
   ]
  },
  {
   "cell_type": "code",
   "execution_count": 9,
   "metadata": {},
   "outputs": [
    {
     "data": {
      "text/plain": [
       "'BU BiR TESt CÜMLEsIDIR'"
      ]
     },
     "execution_count": 9,
     "metadata": {},
     "output_type": "execute_result"
    }
   ],
   "source": [
    "# swapcase() string ifadedeki büyük harler küçük, küçük harleri büyük döndürür\n",
    "\n",
    "'bu bIr tesT cümleSidir'.swapcase()"
   ]
  },
  {
   "cell_type": "code",
   "execution_count": 10,
   "metadata": {},
   "outputs": [
    {
     "data": {
      "text/plain": [
       "'test text'"
      ]
     },
     "execution_count": 10,
     "metadata": {},
     "output_type": "execute_result"
    }
   ],
   "source": [
    "# replace() string ifadedeki verilen karakterleri istenilen ile değiştirir\n",
    "\n",
    "'test&text'.replace('&',' ')"
   ]
  },
  {
   "cell_type": "code",
   "execution_count": 11,
   "metadata": {},
   "outputs": [
    {
     "data": {
      "text/plain": [
       "'kimseyi ark+a bırakm+ık'"
      ]
     },
     "execution_count": 11,
     "metadata": {},
     "output_type": "execute_result"
    }
   ],
   "source": [
    "str = 'kimseyi arkada bırakmadık'\n",
    "str.replace('ad','+')"
   ]
  },
  {
   "cell_type": "code",
   "execution_count": 13,
   "metadata": {},
   "outputs": [
    {
     "data": {
      "text/plain": [
       "'kimseyi ark+a bırakmadık'"
      ]
     },
     "execution_count": 13,
     "metadata": {},
     "output_type": "execute_result"
    }
   ],
   "source": [
    "str.replace('ad','+',1) # belirtilen sayıda değişiklik yapar. 1 den fazla ad varsa sadece ilk ad yi değiştirir"
   ]
  },
  {
   "attachments": {},
   "cell_type": "markdown",
   "metadata": {},
   "source": [
    "### help() verilen metodun detaylarını döndürür"
   ]
  },
  {
   "cell_type": "code",
   "execution_count": 14,
   "metadata": {},
   "outputs": [
    {
     "name": "stdout",
     "output_type": "stream",
     "text": [
      "No Python documentation found for 'kimseyi erkede bırekmedık'.\n",
      "Use help() to get the interactive help utility.\n",
      "Use help(str) for help on the str class.\n",
      "\n"
     ]
    }
   ],
   "source": [
    "help(str)"
   ]
  },
  {
   "cell_type": "code",
   "execution_count": 15,
   "metadata": {},
   "outputs": [
    {
     "name": "stdout",
     "output_type": "stream",
     "text": [
      "Help on built-in function replace:\n",
      "\n",
      "replace(old, new, count=-1, /) method of builtins.str instance\n",
      "    Return a copy with all occurrences of substring old replaced by new.\n",
      "    \n",
      "      count\n",
      "        Maximum number of occurrences to replace.\n",
      "        -1 (the default value) means replace all occurrences.\n",
      "    \n",
      "    If the optional argument count is given, only the first count occurrences are\n",
      "    replaced.\n",
      "\n"
     ]
    }
   ],
   "source": [
    "help(str.replace)"
   ]
  },
  {
   "cell_type": "code",
   "execution_count": 17,
   "metadata": {},
   "outputs": [
    {
     "data": {
      "text/plain": [
       "False"
      ]
     },
     "execution_count": 17,
     "metadata": {},
     "output_type": "execute_result"
    }
   ],
   "source": [
    "str.isascii() # ı harfinden dolayı False döner"
   ]
  },
  {
   "cell_type": "code",
   "execution_count": 18,
   "metadata": {},
   "outputs": [
    {
     "data": {
      "text/plain": [
       "False"
      ]
     },
     "execution_count": 18,
     "metadata": {},
     "output_type": "execute_result"
    }
   ],
   "source": [
    "\"Techpro123\".isalpha()"
   ]
  },
  {
   "cell_type": "code",
   "execution_count": 21,
   "metadata": {},
   "outputs": [
    {
     "data": {
      "text/plain": [
       "False"
      ]
     },
     "execution_count": 21,
     "metadata": {},
     "output_type": "execute_result"
    }
   ],
   "source": [
    "\"Tech pro\".isalpha()"
   ]
  },
  {
   "cell_type": "code",
   "execution_count": 22,
   "metadata": {},
   "outputs": [
    {
     "data": {
      "text/plain": [
       "True"
      ]
     },
     "execution_count": 22,
     "metadata": {},
     "output_type": "execute_result"
    }
   ],
   "source": [
    "\"Techpro\".isalpha()"
   ]
  },
  {
   "cell_type": "code",
   "execution_count": 19,
   "metadata": {},
   "outputs": [
    {
     "data": {
      "text/plain": [
       "True"
      ]
     },
     "execution_count": 19,
     "metadata": {},
     "output_type": "execute_result"
    }
   ],
   "source": [
    "\"Techpro123\".isalnum()"
   ]
  },
  {
   "cell_type": "code",
   "execution_count": 20,
   "metadata": {},
   "outputs": [
    {
     "data": {
      "text/plain": [
       "True"
      ]
     },
     "execution_count": 20,
     "metadata": {},
     "output_type": "execute_result"
    }
   ],
   "source": [
    "\"4568\".isnumeric()"
   ]
  },
  {
   "cell_type": "code",
   "execution_count": 23,
   "metadata": {},
   "outputs": [
    {
     "data": {
      "text/plain": [
       "5"
      ]
     },
     "execution_count": 23,
     "metadata": {},
     "output_type": "execute_result"
    }
   ],
   "source": [
    "str.count('a')"
   ]
  },
  {
   "cell_type": "code",
   "execution_count": 24,
   "metadata": {},
   "outputs": [
    {
     "data": {
      "text/plain": [
       "['kimseyi', 'arkada', 'bırakmadık']"
      ]
     },
     "execution_count": 24,
     "metadata": {},
     "output_type": "execute_result"
    }
   ],
   "source": [
    "str.split(' ')"
   ]
  },
  {
   "cell_type": "code",
   "execution_count": 25,
   "metadata": {},
   "outputs": [
    {
     "data": {
      "text/plain": [
       "['kimseyi', 'arkada', 'bırakmadık']"
      ]
     },
     "execution_count": 25,
     "metadata": {},
     "output_type": "execute_result"
    }
   ],
   "source": [
    "str.split() # default değeri boşluk karakteridir"
   ]
  },
  {
   "cell_type": "code",
   "execution_count": 30,
   "metadata": {},
   "outputs": [
    {
     "data": {
      "text/plain": [
       "['kimseyi arka', ' bırakmadık']"
      ]
     },
     "execution_count": 30,
     "metadata": {},
     "output_type": "execute_result"
    }
   ],
   "source": [
    "str.split('da')"
   ]
  },
  {
   "cell_type": "code",
   "execution_count": 31,
   "metadata": {},
   "outputs": [
    {
     "data": {
      "text/plain": [
       "['İnsan',\n",
       " 'bu,',\n",
       " 'su',\n",
       " 'misali,',\n",
       " 'kıvrım',\n",
       " 'kıvrım',\n",
       " 'akar',\n",
       " 'ya;',\n",
       " 'Bir',\n",
       " 'yanda',\n",
       " 'akan',\n",
       " 'benim,',\n",
       " 'öbür',\n",
       " 'yanda',\n",
       " 'Sakarya.',\n",
       " 'Su',\n",
       " 'iner',\n",
       " 'yokuşlardan,',\n",
       " 'hep',\n",
       " 'basamak',\n",
       " 'basamak;',\n",
       " 'Benimse',\n",
       " 'alın',\n",
       " 'yazım,',\n",
       " 'yokuşlarda',\n",
       " 'susamak.',\n",
       " 'Her',\n",
       " 'şey',\n",
       " 'akar,',\n",
       " 'su,',\n",
       " 'tarih, yıldız, insan ve fikir;\\nOluklar çift; birinden nur akar; birinden kir.\\nAkışta demetlenmiş, büyük, küçük, kâinat;\\nŞu çıkan buluta bak, bu inen suya inat!\\nFakat Sakarya başka, yokuş mu çıkıyor ne,\\nKurşundan bir yük binmiş, köpükten gövdesine;\\nÇatlıyor, yırtınıyor yokuşu sökmek için.\\nHey Sakarya, kim demiş suya vurulmaz perçin?\\nRabbim isterse, sular büklüm büklüm burulur,\\nSırtına Sakaryanın, Türk tarihi vurulur.\\nEyvah, eyvah, Sakaryam, sana mı düştü bu yük?\\nBu dâva hor, bu dâva öksüz, bu dâva büyük! ..']"
      ]
     },
     "execution_count": 31,
     "metadata": {},
     "output_type": "execute_result"
    }
   ],
   "source": [
    "exampleText = \"\"\"İnsan bu, su misali, kıvrım kıvrım akar ya;\n",
    "Bir yanda akan benim, öbür yanda Sakarya.\n",
    "Su iner yokuşlardan, hep basamak basamak;\n",
    "Benimse alın yazım, yokuşlarda susamak.\n",
    "Her şey akar, su, tarih, yıldız, insan ve fikir;\n",
    "Oluklar çift; birinden nur akar; birinden kir.\n",
    "Akışta demetlenmiş, büyük, küçük, kâinat;\n",
    "Şu çıkan buluta bak, bu inen suya inat!\n",
    "Fakat Sakarya başka, yokuş mu çıkıyor ne,\n",
    "Kurşundan bir yük binmiş, köpükten gövdesine;\n",
    "Çatlıyor, yırtınıyor yokuşu sökmek için.\n",
    "Hey Sakarya, kim demiş suya vurulmaz perçin?\n",
    "Rabbim isterse, sular büklüm büklüm burulur,\n",
    "Sırtına Sakaryanın, Türk tarihi vurulur.\n",
    "Eyvah, eyvah, Sakaryam, sana mı düştü bu yük?\n",
    "Bu dâva hor, bu dâva öksüz, bu dâva büyük! ..\"\"\"\n",
    "\n",
    "exampleText.split(maxsplit=30) # max 30 parçaya ayırır"
   ]
  },
  {
   "cell_type": "code",
   "execution_count": 32,
   "metadata": {},
   "outputs": [
    {
     "data": {
      "text/plain": [
       "'Techpro education is the bes'"
      ]
     },
     "execution_count": 32,
     "metadata": {},
     "output_type": "execute_result"
    }
   ],
   "source": [
    "# strip() string ifadenin başında ve sonunda arama yapar ve değiştirir\n",
    "'Techpro education is the best'.strip('t')"
   ]
  },
  {
   "cell_type": "code",
   "execution_count": 33,
   "metadata": {},
   "outputs": [
    {
     "data": {
      "text/plain": [
       "'Techpro education is the best'"
      ]
     },
     "execution_count": 33,
     "metadata": {},
     "output_type": "execute_result"
    }
   ],
   "source": [
    "'    Techpro education is the best         '.strip()"
   ]
  },
  {
   "cell_type": "code",
   "execution_count": 34,
   "metadata": {},
   "outputs": [
    {
     "data": {
      "text/plain": [
       "'Techpro education is the be'"
      ]
     },
     "execution_count": 34,
     "metadata": {},
     "output_type": "execute_result"
    }
   ],
   "source": [
    "'Techpro education is the best'.strip('ts') # verilen karakterleri ayrı ayrı arar"
   ]
  },
  {
   "cell_type": "code",
   "execution_count": 35,
   "metadata": {},
   "outputs": [
    {
     "data": {
      "text/plain": [
       "'Techpro education is the bes'"
      ]
     },
     "execution_count": 35,
     "metadata": {},
     "output_type": "execute_result"
    }
   ],
   "source": [
    "'Techpro education is the best'.strip('tk')"
   ]
  },
  {
   "attachments": {},
   "cell_type": "markdown",
   "metadata": {},
   "source": [
    "# if-elif-else"
   ]
  },
  {
   "cell_type": "code",
   "execution_count": 36,
   "metadata": {},
   "outputs": [
    {
     "name": "stdout",
     "output_type": "stream",
     "text": [
      "True\n"
     ]
    }
   ],
   "source": [
    "if 5>4 : # ':' kullanılması zorunludur\n",
    "    print(5>4) # başlangıçta 4 boşluk göremezse hata verir"
   ]
  },
  {
   "cell_type": "code",
   "execution_count": 37,
   "metadata": {},
   "outputs": [
    {
     "name": "stdout",
     "output_type": "stream",
     "text": [
      "kod çalışır mı?\n"
     ]
    }
   ],
   "source": [
    "if 'Cihan' : # str ler truthy ifade olduğu için boş değilse true döndürür\n",
    "    print('kod çalışır mı?')"
   ]
  },
  {
   "cell_type": "code",
   "execution_count": 38,
   "metadata": {},
   "outputs": [
    {
     "name": "stdout",
     "output_type": "stream",
     "text": [
      "if bloğu\n"
     ]
    }
   ],
   "source": [
    "if 5>4 :\n",
    "    print('if bloğu')\n",
    "else :\n",
    "    print('else bloğu')"
   ]
  },
  {
   "cell_type": "code",
   "execution_count": 39,
   "metadata": {},
   "outputs": [
    {
     "name": "stdout",
     "output_type": "stream",
     "text": [
      "else bloğu\n"
     ]
    }
   ],
   "source": [
    "if 5<4 :\n",
    "    print('if bloğu')\n",
    "else :\n",
    "    print('else bloğu')"
   ]
  },
  {
   "cell_type": "code",
   "execution_count": 40,
   "metadata": {},
   "outputs": [
    {
     "name": "stdout",
     "output_type": "stream",
     "text": [
      "else\n"
     ]
    }
   ],
   "source": [
    "x = 8\n",
    "if x < 2:\n",
    "    print('if')\n",
    "elif x > 10:\n",
    "    print('elif')\n",
    "else:\n",
    "    print('else')"
   ]
  },
  {
   "cell_type": "code",
   "execution_count": 44,
   "metadata": {},
   "outputs": [
    {
     "name": "stdout",
     "output_type": "stream",
     "text": [
      "1. if\n"
     ]
    }
   ],
   "source": [
    "if 5>4:\n",
    "    print('1. if')\n",
    "    if 4>5:\n",
    "        print('2. if')"
   ]
  },
  {
   "cell_type": "code",
   "execution_count": 48,
   "metadata": {},
   "outputs": [
    {
     "name": "stdout",
     "output_type": "stream",
     "text": [
      "old\n"
     ]
    }
   ],
   "source": [
    "age = int(input('Please enter your age'))\n",
    "\n",
    "if age<=30:\n",
    "    print('young')\n",
    "elif age>=31 and age<=50:\n",
    "    print('old')\n",
    "elif age>50:\n",
    "    print('so close :)')"
   ]
  }
 ],
 "metadata": {
  "kernelspec": {
   "display_name": "Python 3",
   "language": "python",
   "name": "python3"
  },
  "language_info": {
   "codemirror_mode": {
    "name": "ipython",
    "version": 3
   },
   "file_extension": ".py",
   "mimetype": "text/x-python",
   "name": "python",
   "nbconvert_exporter": "python",
   "pygments_lexer": "ipython3",
   "version": "3.9.6"
  },
  "orig_nbformat": 4
 },
 "nbformat": 4,
 "nbformat_minor": 2
}
