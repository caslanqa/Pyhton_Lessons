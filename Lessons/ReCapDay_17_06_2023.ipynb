{
 "cells": [
  {
   "attachments": {},
   "cell_type": "markdown",
   "metadata": {},
   "source": [
    "# Loops\n",
    "\n",
    "\n",
    "### for Loop"
   ]
  },
  {
   "cell_type": "code",
   "execution_count": null,
   "metadata": {},
   "outputs": [],
   "source": [
    "for element in sequence :\n",
    "    # Code block to be repeated"
   ]
  },
  {
   "cell_type": "code",
   "execution_count": 3,
   "metadata": {},
   "outputs": [
    {
     "name": "stdout",
     "output_type": "stream",
     "text": [
      "1\n",
      "2\n",
      "3\n",
      "4\n",
      "5\n",
      "6\n",
      "7\n",
      "8\n",
      "9\n"
     ]
    }
   ],
   "source": [
    "for element in range(1,10):\n",
    "    print(element)"
   ]
  },
  {
   "cell_type": "code",
   "execution_count": 5,
   "metadata": {},
   "outputs": [
    {
     "name": "stdout",
     "output_type": "stream",
     "text": [
      "apple Faydalıdır\n",
      "orange Faydalıdır\n",
      "erik Faydalıdır\n",
      "karpuz Faydalıdır\n",
      "üzüm Faydalıdır\n"
     ]
    }
   ],
   "source": [
    "fruits = [\"apple\",\"orange\",\"erik\",\"karpuz\",\"üzüm\"]\n",
    "\n",
    "for meyve in fruits :\n",
    "    print(meyve,\"Faydalıdır\")"
   ]
  },
  {
   "cell_type": "code",
   "execution_count": 6,
   "metadata": {},
   "outputs": [
    {
     "name": "stdout",
     "output_type": "stream",
     "text": [
      "[ ] Don't forget to buy ekmek\n",
      "[ ] Don't forget to buy kuzu kol\n",
      "[ ] Don't forget to buy küşleme\n",
      "[ ] Don't forget to buy köfte\n",
      "[ ] Don't forget to buy ayran\n",
      "[ ] Don't forget to buy karpuz\n"
     ]
    }
   ],
   "source": [
    "shopingList = [\"ekmek\",\"kuzu kol\",\"küşleme\",\"köfte\",\"ayran\",\"karpuz\"]\n",
    "\n",
    "for x in shopingList :\n",
    "    print(\"[ ] Don't forget to buy\",x)"
   ]
  },
  {
   "cell_type": "code",
   "execution_count": 8,
   "metadata": {},
   "outputs": [
    {
     "name": "stdout",
     "output_type": "stream",
     "text": [
      "55\n"
     ]
    }
   ],
   "source": [
    "total = 0\n",
    "for x in range(1,11):\n",
    "    total += x\n",
    "\n",
    "print(total)"
   ]
  },
  {
   "cell_type": "code",
   "execution_count": 11,
   "metadata": {},
   "outputs": [
    {
     "name": "stdout",
     "output_type": "stream",
     "text": [
      "13\n"
     ]
    }
   ],
   "source": [
    "# len() fonksiyonunun manuel yazımı\n",
    "message = 'Hello, World!'\n",
    "\n",
    "length = 0\n",
    "\n",
    "for char in message:\n",
    "    length += 1\n",
    "\n",
    "print(length)"
   ]
  },
  {
   "cell_type": "code",
   "execution_count": 12,
   "metadata": {},
   "outputs": [
    {
     "name": "stdout",
     "output_type": "stream",
     "text": [
      "10\n"
     ]
    }
   ],
   "source": [
    "message = 'Hello, World!'\n",
    "\n",
    "length = 0\n",
    "\n",
    "for char in message:\n",
    "    if char.isalpha():\n",
    "        length += 1\n",
    "\n",
    "print(length)"
   ]
  },
  {
   "cell_type": "code",
   "execution_count": 14,
   "metadata": {},
   "outputs": [
    {
     "name": "stdout",
     "output_type": "stream",
     "text": [
      "Ahmet Exam result is -> 85\n",
      "Mehmet Exam result is -> 92\n",
      "Faruk Exam result is -> 100\n",
      "Yusuf Exam result is -> 90\n"
     ]
    }
   ],
   "source": [
    "students_grade = {\"Ahmet\":85,\"Mehmet\":92,\"Faruk\":100,\"Yusuf\":90}\n",
    "\n",
    "for name,grade in students_grade.items():\n",
    "    print(name,\"Exam result is ->\",grade)"
   ]
  },
  {
   "attachments": {},
   "cell_type": "markdown",
   "metadata": {},
   "source": [
    "### Nested Loop (İç içe döngüler)"
   ]
  },
  {
   "cell_type": "code",
   "execution_count": 20,
   "metadata": {},
   "outputs": [
    {
     "name": "stdout",
     "output_type": "stream",
     "text": [
      "Multiplication of x -->1\t2\t\n",
      "Multiplication of x -->2\t4\t\n",
      "Multiplication of x -->3\t6\t\n",
      "Multiplication of x -->4\t8\t\n",
      "Multiplication of x -->5\t10\t\n",
      "Multiplication of x -->6\t12\t\n",
      "Multiplication of x -->7\t14\t\n",
      "Multiplication of x -->8\t16\t\n",
      "Multiplication of x -->9\t18\t\n",
      "Multiplication of x -->10\t20\t\n"
     ]
    }
   ],
   "source": [
    "# Multiplication Table\n",
    "\n",
    "for x in range(1,11):\n",
    "    print(\"Multiplication of x \",end=\"-->\")\n",
    "    for y in range(1,3):\n",
    "        print(x*y,end=\"\\t\")\n",
    "    print(end=\"\\n\")"
   ]
  },
  {
   "attachments": {},
   "cell_type": "markdown",
   "metadata": {},
   "source": [
    "### break / continue"
   ]
  },
  {
   "cell_type": "code",
   "execution_count": 24,
   "metadata": {},
   "outputs": [
    {
     "name": "stdout",
     "output_type": "stream",
     "text": [
      "1\n",
      "2\n",
      "3\n",
      "4\n"
     ]
    }
   ],
   "source": [
    "for x in range(1,26):\n",
    "    if x==5:\n",
    "        break # x 5 e eşitse takip eden kodları çalıştırmaz döngüyü durdurur\n",
    "    print(x)"
   ]
  },
  {
   "cell_type": "code",
   "execution_count": 25,
   "metadata": {},
   "outputs": [
    {
     "name": "stdout",
     "output_type": "stream",
     "text": [
      "1\n",
      "2\n",
      "3\n",
      "4\n",
      "6\n",
      "7\n",
      "8\n",
      "9\n",
      "11\n",
      "12\n",
      "13\n",
      "14\n",
      "16\n",
      "17\n",
      "18\n",
      "19\n",
      "21\n",
      "22\n",
      "23\n",
      "24\n"
     ]
    }
   ],
   "source": [
    "for x in range(1,26):\n",
    "    if x%5==0:\n",
    "        continue # x 5 in katları ise takib eden kodları atlar döngüye devam eder\n",
    "    print(x)"
   ]
  },
  {
   "cell_type": "code",
   "execution_count": 28,
   "metadata": {},
   "outputs": [
    {
     "name": "stdout",
     "output_type": "stream",
     "text": [
      "101 is a prime number\n"
     ]
    }
   ],
   "source": [
    "# Prime number check\n",
    "\n",
    "number = 101\n",
    "\n",
    "for x in range(2,number):\n",
    "    if number % x == 0:\n",
    "        print(\"number is a composite number\")\n",
    "        break\n",
    "else:\n",
    "    print(number,\"is a prime number\")"
   ]
  },
  {
   "cell_type": "code",
   "execution_count": null,
   "metadata": {},
   "outputs": [],
   "source": []
  }
 ],
 "metadata": {
  "kernelspec": {
   "display_name": "Python 3",
   "language": "python",
   "name": "python3"
  },
  "language_info": {
   "codemirror_mode": {
    "name": "ipython",
    "version": 3
   },
   "file_extension": ".py",
   "mimetype": "text/x-python",
   "name": "python",
   "nbconvert_exporter": "python",
   "pygments_lexer": "ipython3",
   "version": "3.9.6"
  },
  "orig_nbformat": 4
 },
 "nbformat": 4,
 "nbformat_minor": 2
}
