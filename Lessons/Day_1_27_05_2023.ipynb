{
 "cells": [
  {
   "attachments": {},
   "cell_type": "markdown",
   "metadata": {},
   "source": [
    "# Python dersleri 1. Gün"
   ]
  },
  {
   "cell_type": "code",
   "execution_count": 3,
   "metadata": {},
   "outputs": [
    {
     "name": "stdout",
     "output_type": "stream",
     "text": [
      "Hello World\n",
      "Merhaba Dünya\n"
     ]
    }
   ],
   "source": [
    "print('Hello World')\n",
    "print(\"Merhaba Dünya\")"
   ]
  },
  {
   "attachments": {},
   "cell_type": "markdown",
   "metadata": {},
   "source": [
    "## pep8 kuralları"
   ]
  },
  {
   "attachments": {},
   "cell_type": "markdown",
   "metadata": {},
   "source": [
    "###### * Bir satırda 79 karakterden fazla kullanılmaz\n",
    "###### \"#\" işareti comment satırı için kullanılır\n",
    "###### değişken isimleri için standartlar:\n",
    "        rakam, $, % yada & ile başlayamazlar\n",
    "        içerisinde kullanılabilir\n",
    "        matematiksel semboller kullanılamaz"
   ]
  }
 ],
 "metadata": {
  "kernelspec": {
   "display_name": "base",
   "language": "python",
   "name": "python3"
  },
  "language_info": {
   "codemirror_mode": {
    "name": "ipython",
    "version": 3
   },
   "file_extension": ".py",
   "mimetype": "text/x-python",
   "name": "python",
   "nbconvert_exporter": "python",
   "pygments_lexer": "ipython3",
   "version": "3.9.13"
  },
  "orig_nbformat": 4
 },
 "nbformat": 4,
 "nbformat_minor": 2
}
